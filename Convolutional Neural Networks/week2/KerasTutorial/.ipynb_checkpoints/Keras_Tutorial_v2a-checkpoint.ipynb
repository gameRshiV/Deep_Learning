{
 "cells": [
  {
   "cell_type": "markdown",
   "metadata": {},
   "source": [
    "# Keras tutorial - Emotion Detection in Images of Faces\n",
    "\n",
    "Welcome to the first assignment of week 2. In this assignment, you will:\n",
    "1. Learn to use Keras, a high-level neural networks API (programming framework), written in Python and capable of running on top of several lower-level frameworks including TensorFlow and CNTK. \n",
    "2. See how you can in a couple of hours build a deep learning algorithm.\n",
    "\n",
    "#### Why are we using Keras? \n",
    "\n",
    "* Keras was developed to enable deep learning engineers to build and experiment with different models very quickly. \n",
    "* Just as TensorFlow is a higher-level framework than Python, Keras is an even higher-level framework and provides additional abstractions. \n",
    "* Being able to go from idea to result with the least possible delay is key to finding good models. \n",
    "* However, Keras is more restrictive than the lower-level frameworks, so there are some very complex models that you would still implement in TensorFlow rather than in Keras. \n",
    "* That being said, Keras will work fine for many common models. "
   ]
  },
  {
   "cell_type": "markdown",
   "metadata": {},
   "source": [
    "## <font color='darkblue'>Updates</font>\n",
    "\n",
    "#### If you were working on the notebook before this update...\n",
    "* The current notebook is version \"v2a\".\n",
    "* You can find your original work saved in the notebook with the previous version name (\"v2\").\n",
    "* To view the file directory, go to the menu \"File->Open\", and this will open a new tab that shows the file directory.\n",
    "\n",
    "#### List of updates\n",
    "* Changed back-story of model to \"emotion detection\" from \"happy house.\"\n",
    "* Cleaned/organized wording of instructions and commentary.\n",
    "* Added instructions on how to set `input_shape`\n",
    "* Added explanation of \"objects as functions\" syntax.\n",
    "* Clarified explanation of variable naming convention.\n",
    "* Added hints for steps 1,2,3,4"
   ]
  },
  {
   "cell_type": "markdown",
   "metadata": {},
   "source": [
    "## Load packages\n",
    "* In this exercise, you'll work on the \"Emotion detection\" model, which we'll explain below. \n",
    "* Let's load the required packages."
   ]
  },
  {
   "cell_type": "code",
   "execution_count": 1,
   "metadata": {},
   "outputs": [
    {
     "name": "stderr",
     "output_type": "stream",
     "text": [
      "Using TensorFlow backend.\n"
     ]
    }
   ],
   "source": [
    "import numpy as np\n",
    "from keras import layers\n",
    "from keras.layers import Input, Dense, Activation, ZeroPadding2D, BatchNormalization, Flatten, Conv2D\n",
    "from keras.layers import AveragePooling2D, MaxPooling2D, Dropout, GlobalMaxPooling2D, GlobalAveragePooling2D\n",
    "from keras.models import Model\n",
    "from keras.preprocessing import image\n",
    "from keras.utils import layer_utils\n",
    "from keras.utils.data_utils import get_file\n",
    "from keras.applications.imagenet_utils import preprocess_input\n",
    "import pydot\n",
    "from IPython.display import SVG\n",
    "from keras.utils.vis_utils import model_to_dot\n",
    "from keras.utils import plot_model\n",
    "from kt_utils import *\n",
    "\n",
    "import keras.backend as K\n",
    "K.set_image_data_format('channels_last')\n",
    "import matplotlib.pyplot as plt\n",
    "from matplotlib.pyplot import imshow\n",
    "\n",
    "%matplotlib inline"
   ]
  },
  {
   "cell_type": "markdown",
   "metadata": {},
   "source": [
    "**Note**: As you can see, we've imported a lot of functions from Keras. You can use them by calling them directly in your code. Ex: `X = Input(...)` or `X = ZeroPadding2D(...)`. \n",
    "\n",
    "In other words, unlike TensorFlow, you don't have to create the graph and then make a separate `sess.run()` call to evaluate those variables."
   ]
  },
  {
   "cell_type": "markdown",
   "metadata": {},
   "source": [
    "## 1 - Emotion Tracking\n",
    "\n",
    "* A nearby community health clinic is helping the local residents monitor their mental health.  \n",
    "* As part of their study, they are asking volunteers to record their emotions throughout the day.\n",
    "* To help the participants more easily track their emotions, you are asked to create an app that will classify their emotions based on some pictures that the volunteers will take of their facial expressions.\n",
    "* As a proof-of-concept, you first train your model to detect if someone's emotion is classified as \"happy\" or \"not happy.\"\n",
    "\n",
    "To build and train this model, you have gathered pictures of some volunteers in a nearby neighborhood. The dataset is labeled.\n",
    "<img src=\"images/face_images.png\" style=\"width:550px;height:250px;\">\n",
    "\n",
    "Run the following code to normalize the dataset and learn about its shapes."
   ]
  },
  {
   "cell_type": "code",
   "execution_count": 2,
   "metadata": {},
   "outputs": [
    {
     "name": "stdout",
     "output_type": "stream",
     "text": [
      "number of training examples = 600\n",
      "number of test examples = 150\n",
      "X_train shape: (600, 64, 64, 3)\n",
      "Y_train shape: (600, 1)\n",
      "X_test shape: (150, 64, 64, 3)\n",
      "Y_test shape: (150, 1)\n"
     ]
    }
   ],
   "source": [
    "X_train_orig, Y_train_orig, X_test_orig, Y_test_orig, classes = load_dataset()\n",
    "\n",
    "# Normalize image vectors\n",
    "X_train = X_train_orig/255.\n",
    "X_test = X_test_orig/255.\n",
    "\n",
    "# Reshape\n",
    "Y_train = Y_train_orig.T\n",
    "Y_test = Y_test_orig.T\n",
    "\n",
    "print (\"number of training examples = \" + str(X_train.shape[0]))\n",
    "print (\"number of test examples = \" + str(X_test.shape[0]))\n",
    "print (\"X_train shape: \" + str(X_train.shape))\n",
    "print (\"Y_train shape: \" + str(Y_train.shape))\n",
    "print (\"X_test shape: \" + str(X_test.shape))\n",
    "print (\"Y_test shape: \" + str(Y_test.shape))"
   ]
  },
  {
   "cell_type": "markdown",
   "metadata": {},
   "source": [
    "**Details of the \"Face\" dataset**:\n",
    "- Images are of shape (64,64,3)\n",
    "- Training: 600 pictures\n",
    "- Test: 150 pictures"
   ]
  },
  {
   "cell_type": "markdown",
   "metadata": {},
   "source": [
    "## 2 - Building a model in Keras\n",
    "\n",
    "Keras is very good for rapid prototyping. In just a short time you will be able to build a model that achieves outstanding results.\n",
    "\n",
    "Here is an example of a model in Keras:\n",
    "\n",
    "```python\n",
    "def model(input_shape):\n",
    "    \"\"\"\n",
    "    input_shape: The height, width and channels as a tuple.  \n",
    "        Note that this does not include the 'batch' as a dimension.\n",
    "        If you have a batch like 'X_train', \n",
    "        then you can provide the input_shape using\n",
    "        X_train.shape[1:]\n",
    "    \"\"\"\n",
    "    \n",
    "    # Define the input placeholder as a tensor with shape input_shape. Think of this as your input image!\n",
    "    X_input = Input(input_shape)\n",
    "\n",
    "    # Zero-Padding: pads the border of X_input with zeroes\n",
    "    X = ZeroPadding2D((3, 3))(X_input)\n",
    "\n",
    "    # CONV -> BN -> RELU Block applied to X\n",
    "    X = Conv2D(32, (7, 7), strides = (1, 1), name = 'conv0')(X)\n",
    "    X = BatchNormalization(axis = 3, name = 'bn0')(X)\n",
    "    X = Activation('relu')(X)\n",
    "\n",
    "    # MAXPOOL\n",
    "    X = MaxPooling2D((2, 2), name='max_pool')(X)\n",
    "\n",
    "    # FLATTEN X (means convert it to a vector) + FULLYCONNECTED\n",
    "    X = Flatten()(X)\n",
    "    X = Dense(1, activation='sigmoid', name='fc')(X)\n",
    "\n",
    "    # Create model. This creates your Keras model instance, you'll use this instance to train/test the model.\n",
    "    model = Model(inputs = X_input, outputs = X, name='HappyModel')\n",
    "    \n",
    "    return model\n",
    "```"
   ]
  },
  {
   "cell_type": "markdown",
   "metadata": {},
   "source": [
    "#### Variable naming convention\n",
    "\n",
    "* Note that Keras uses a different convention with variable names than we've previously used with numpy and TensorFlow. \n",
    "* Instead of creating unique variable names for each step and each layer, such as \n",
    "```\n",
    "X = ...\n",
    "Z1 = ...\n",
    "A1 = ...\n",
    "```\n",
    "* Keras re-uses and overwrites the same variable at each step:\n",
    "```\n",
    "X = ...\n",
    "X = ...\n",
    "X = ...\n",
    "```\n",
    "* The exception is `X_input`, which we kept separate since it's needed later."
   ]
  },
  {
   "cell_type": "markdown",
   "metadata": {},
   "source": [
    "#### Objects as functions\n",
    "* Notice how there are two pairs of parentheses in each statement.  For example:\n",
    "```\n",
    "X = ZeroPadding2D((3, 3))(X_input)\n",
    "```\n",
    "* The first is a constructor call which creates an object (ZeroPadding2D).\n",
    "* In Python, objects can be called as functions. Search for 'python object as function and you can read this blog post [Python Pandemonium](https://medium.com/python-pandemonium/function-as-objects-in-python-d5215e6d1b0d).  See the section titled \"Objects as functions.\"\n",
    "* The single line is equivalent to this:\n",
    "```\n",
    "ZP = ZeroPadding2D((3, 3)) # ZP is an object that can be called as a function\n",
    "X = ZP(X_input) \n",
    "```"
   ]
  },
  {
   "cell_type": "markdown",
   "metadata": {},
   "source": [
    "**Exercise**: Implement a `HappyModel()`.  \n",
    "* This assignment is more open-ended than most. \n",
    "* Start by implementing a model using the architecture we suggest, and run through the rest of this assignment using that as your initial model. * Later, come back and try out other model architectures. \n",
    "* For example, you might take inspiration from the model above, but then vary the network architecture and hyperparameters however you wish. \n",
    "* You can also use other functions such as `AveragePooling2D()`, `GlobalMaxPooling2D()`, `Dropout()`. \n",
    "\n",
    "**Note**: Be careful with your data's shapes. Use what you've learned in the videos to make sure your convolutional, pooling and fully-connected layers are adapted to the volumes you're applying it to."
   ]
  },
  {
   "cell_type": "code",
   "execution_count": 4,
   "metadata": {},
   "outputs": [],
   "source": [
    "# GRADED FUNCTION: HappyModel\n",
    "\n",
    "def HappyModel(input_shape):\n",
    "    \"\"\"\n",
    "    Implementation of the HappyModel.\n",
    "    \n",
    "    Arguments:\n",
    "    input_shape -- shape of the images of the dataset\n",
    "        (height, width, channels) as a tuple.  \n",
    "        Note that this does not include the 'batch' as a dimension.\n",
    "        If you have a batch like 'X_train', \n",
    "        then you can provide the input_shape using\n",
    "        X_train.shape[1:]\n",
    "    \"\"\"\n",
    " # Define the input placeholder as a tensor with shape input_shape. Think of this as your input image!\n",
    "    X_input = Input(input_shape)\n",
    "\n",
    "    # Zero-Padding: pads the border of X_input with zeroes\n",
    "    X = ZeroPadding2D((3, 3))(X_input)\n",
    "\n",
    "    # CONV -> BN -> RELU Block applied to X\n",
    "    X = Conv2D(32, (7, 7), strides = (1, 1), name = 'conv0')(X)\n",
    "    X = BatchNormalization(axis = 3, name = 'bn0')(X)\n",
    "    X = Activation('relu')(X)\n",
    "\n",
    "    # MAXPOOL\n",
    "    X = MaxPooling2D((2, 2), name='max_pool')(X)\n",
    "\n",
    "    # FLATTEN X (means convert it to a vector) + FULLYCONNECTED\n",
    "    X = Flatten()(X)\n",
    "    X = Dense(1, activation='sigmoid', name='fc')(X)\n",
    "\n",
    "    # Create model. This creates your Keras model instance, you'll use this instance to train/test the model.\n",
    "    model = Model(inputs = X_input, outputs = X, name='HappyModel')\n",
    "\n",
    "    return model\n",
    "    \n",
    "    \"\"\"\n",
    "    \n",
    "    ### START CODE HERE ###\n",
    "    # Feel free to use the suggested outline in the text above to get started, and run through the whole\n",
    "    # exercise (including the later portions of this notebook) once. The come back also try out other\n",
    "    # network architectures as well. \n",
    "    \n",
    "    \n",
    "    ### END CODE HERE ###\n",
    "    \"\"\"    "
   ]
  },
  {
   "cell_type": "markdown",
   "metadata": {},
   "source": [
    "You have now built a function to describe your model. To train and test this model, there are four steps in Keras:\n",
    "1. Create the model by calling the function above  \n",
    "\n",
    "2. Compile the model by calling `model.compile(optimizer = \"...\", loss = \"...\", metrics = [\"accuracy\"])`  \n",
    "\n",
    "3. Train the model on train data by calling `model.fit(x = ..., y = ..., epochs = ..., batch_size = ...)`  \n",
    "\n",
    "4. Test the model on test data by calling `model.evaluate(x = ..., y = ...)`  \n",
    "\n",
    "If you want to know more about `model.compile()`, `model.fit()`, `model.evaluate()` and their arguments, refer to the official [Keras documentation](https://keras.io/models/model/)."
   ]
  },
  {
   "cell_type": "markdown",
   "metadata": {},
   "source": [
    "#### Step 1: create the model.  \n",
    "**Hint**:  \n",
    "The `input_shape` parameter is a tuple (height, width, channels).  It excludes the batch number.  \n",
    "Try `X_train.shape[1:]` as the `input_shape`."
   ]
  },
  {
   "cell_type": "code",
   "execution_count": 5,
   "metadata": {
    "collapsed": true
   },
   "outputs": [],
   "source": [
    "### START CODE HERE ### (1 line)\n",
    "happyModel = HappyModel(X_train.shape[1:])\n",
    "### END CODE HERE ###"
   ]
  },
  {
   "cell_type": "markdown",
   "metadata": {},
   "source": [
    "#### Step 2: compile the model\n",
    "\n",
    "**Hint**:  \n",
    "Optimizers you can try include `'adam'`, `'sgd'` or others.  See the documentation for [optimizers](https://keras.io/optimizers/)  \n",
    "The \"happiness detection\" is a binary classification problem.  The loss function that you can use is `'binary_cross_entropy'`.  Note that `'categorical_cross_entropy'` won't work with your data set as its formatted, because the data is an array of 0 or 1 rather than two arrays (one for each category).  Documentation for [losses](https://keras.io/losses/)"
   ]
  },
  {
   "cell_type": "code",
   "execution_count": 7,
   "metadata": {},
   "outputs": [],
   "source": [
    "### START CODE HERE ### (1 line)\n",
    "happyModel.compile(optimizer='adam', loss='binary_crossentropy',metrics=['accuracy'] )\n",
    "### END CODE HERE ###"
   ]
  },
  {
   "cell_type": "markdown",
   "metadata": {},
   "source": [
    "#### Step 3: train the model\n",
    "\n",
    "**Hint**:  \n",
    "Use the `'X_train'`, `'Y_train'` variables.  Use integers for the epochs and batch_size\n",
    "\n",
    "**Note**: If you run `fit()` again, the `model` will continue to train with the parameters it has already learned instead of reinitializing them."
   ]
  },
  {
   "cell_type": "code",
   "execution_count": 8,
   "metadata": {},
   "outputs": [
    {
     "name": "stdout",
     "output_type": "stream",
     "text": [
      "Epoch 1/50\n",
      "600/600 [==============================] - 13s - loss: 0.9792 - acc: 0.6483    \n",
      "Epoch 2/50\n",
      "600/600 [==============================] - 14s - loss: 0.3418 - acc: 0.8650    \n",
      "Epoch 3/50\n",
      "600/600 [==============================] - 13s - loss: 0.2279 - acc: 0.9200    \n",
      "Epoch 4/50\n",
      "600/600 [==============================] - 13s - loss: 0.1470 - acc: 0.9500    \n",
      "Epoch 5/50\n",
      "600/600 [==============================] - 13s - loss: 0.0916 - acc: 0.9717    \n",
      "Epoch 6/50\n",
      "600/600 [==============================] - 14s - loss: 0.0772 - acc: 0.9783    \n",
      "Epoch 7/50\n",
      "600/600 [==============================] - 14s - loss: 0.0805 - acc: 0.9767    \n",
      "Epoch 8/50\n",
      "600/600 [==============================] - 14s - loss: 0.0615 - acc: 0.9850    \n",
      "Epoch 9/50\n",
      "600/600 [==============================] - 14s - loss: 0.0530 - acc: 0.9817    \n",
      "Epoch 10/50\n",
      "600/600 [==============================] - 13s - loss: 0.0507 - acc: 0.9867    \n",
      "Epoch 11/50\n",
      "600/600 [==============================] - 13s - loss: 0.0424 - acc: 0.9850    \n",
      "Epoch 12/50\n",
      "600/600 [==============================] - 14s - loss: 0.0471 - acc: 0.9867    \n",
      "Epoch 13/50\n",
      "600/600 [==============================] - 13s - loss: 0.0397 - acc: 0.9933    \n",
      "Epoch 14/50\n",
      "600/600 [==============================] - 13s - loss: 0.0429 - acc: 0.9883    \n",
      "Epoch 15/50\n",
      "600/600 [==============================] - 14s - loss: 0.0313 - acc: 0.9900    \n",
      "Epoch 16/50\n",
      "600/600 [==============================] - 13s - loss: 0.0297 - acc: 0.9917    \n",
      "Epoch 17/50\n",
      "600/600 [==============================] - 14s - loss: 0.0314 - acc: 0.9900    \n",
      "Epoch 18/50\n",
      "600/600 [==============================] - 13s - loss: 0.0450 - acc: 0.9900    \n",
      "Epoch 19/50\n",
      "600/600 [==============================] - 14s - loss: 0.0363 - acc: 0.9867    \n",
      "Epoch 20/50\n",
      "600/600 [==============================] - 14s - loss: 0.0230 - acc: 0.9967    \n",
      "Epoch 21/50\n",
      "600/600 [==============================] - 13s - loss: 0.0259 - acc: 0.9900    \n",
      "Epoch 22/50\n",
      "600/600 [==============================] - 14s - loss: 0.0196 - acc: 0.9967    \n",
      "Epoch 23/50\n",
      "600/600 [==============================] - 13s - loss: 0.0253 - acc: 0.9900    \n",
      "Epoch 24/50\n",
      "600/600 [==============================] - 13s - loss: 0.0222 - acc: 0.9950    \n",
      "Epoch 25/50\n",
      "600/600 [==============================] - 13s - loss: 0.0152 - acc: 0.9983    \n",
      "Epoch 26/50\n",
      "600/600 [==============================] - 13s - loss: 0.0877 - acc: 0.9583    \n",
      "Epoch 27/50\n",
      "600/600 [==============================] - 13s - loss: 0.0919 - acc: 0.9600    \n",
      "Epoch 28/50\n",
      "600/600 [==============================] - 13s - loss: 0.0496 - acc: 0.9850    \n",
      "Epoch 29/50\n",
      "600/600 [==============================] - 13s - loss: 0.0432 - acc: 0.9883    \n",
      "Epoch 30/50\n",
      "600/600 [==============================] - 13s - loss: 0.0257 - acc: 0.9950    \n",
      "Epoch 31/50\n",
      "600/600 [==============================] - 13s - loss: 0.0173 - acc: 0.9950    \n",
      "Epoch 32/50\n",
      "600/600 [==============================] - 13s - loss: 0.0259 - acc: 0.9900    \n",
      "Epoch 33/50\n",
      "600/600 [==============================] - 13s - loss: 0.0393 - acc: 0.9917    \n",
      "Epoch 34/50\n",
      "600/600 [==============================] - 13s - loss: 0.0183 - acc: 0.9983    \n",
      "Epoch 35/50\n",
      "600/600 [==============================] - 13s - loss: 0.0160 - acc: 0.9917    \n",
      "Epoch 36/50\n",
      "600/600 [==============================] - 13s - loss: 0.0172 - acc: 0.9950    \n",
      "Epoch 37/50\n",
      "600/600 [==============================] - 13s - loss: 0.0057 - acc: 1.0000    \n",
      "Epoch 38/50\n",
      "600/600 [==============================] - 13s - loss: 0.0081 - acc: 0.9967    \n",
      "Epoch 39/50\n",
      "600/600 [==============================] - 13s - loss: 0.0058 - acc: 1.0000    \n",
      "Epoch 40/50\n",
      "600/600 [==============================] - 13s - loss: 0.0126 - acc: 0.9950    \n",
      "Epoch 41/50\n",
      "600/600 [==============================] - 13s - loss: 0.0061 - acc: 1.0000    \n",
      "Epoch 42/50\n",
      "600/600 [==============================] - 13s - loss: 0.0097 - acc: 0.9967    \n",
      "Epoch 43/50\n",
      "600/600 [==============================] - 13s - loss: 0.0116 - acc: 0.9983    \n",
      "Epoch 44/50\n",
      "600/600 [==============================] - 13s - loss: 0.0049 - acc: 0.9983    \n",
      "Epoch 45/50\n",
      "600/600 [==============================] - 13s - loss: 0.0081 - acc: 0.9983    \n",
      "Epoch 46/50\n",
      "600/600 [==============================] - 13s - loss: 0.0078 - acc: 1.0000    \n",
      "Epoch 47/50\n",
      "600/600 [==============================] - 13s - loss: 0.0182 - acc: 0.9983    \n",
      "Epoch 48/50\n",
      "600/600 [==============================] - 13s - loss: 0.0169 - acc: 0.9933    \n",
      "Epoch 49/50\n",
      "600/600 [==============================] - 13s - loss: 0.0094 - acc: 0.9983    \n",
      "Epoch 50/50\n",
      "600/600 [==============================] - 13s - loss: 0.0103 - acc: 0.9983    \n"
     ]
    },
    {
     "data": {
      "text/plain": [
       "<keras.callbacks.History at 0x7fe972638c88>"
      ]
     },
     "execution_count": 8,
     "metadata": {},
     "output_type": "execute_result"
    }
   ],
   "source": [
    "### START CODE HERE ### (1 line)\n",
    "happyModel.fit(X_train, Y_train, epochs=50, batch_size=40)\n",
    "### END CODE HERE ###"
   ]
  },
  {
   "cell_type": "markdown",
   "metadata": {},
   "source": [
    "#### Step 4: evaluate model  \n",
    "**Hint**:  \n",
    "Use the `'X_test'` and `'Y_test'` variables to evaluate the model's performance."
   ]
  },
  {
   "cell_type": "code",
   "execution_count": 10,
   "metadata": {
    "scrolled": true
   },
   "outputs": [
    {
     "name": "stdout",
     "output_type": "stream",
     "text": [
      "150/150 [==============================] - 1s     \n",
      "\n",
      "Loss = 0.0780000383655\n",
      "Test Accuracy = 0.959999997616\n"
     ]
    }
   ],
   "source": [
    "### START CODE HERE ### (1 line)\n",
    "preds = happyModel.evaluate(X_test,Y_test)\n",
    "### END CODE HERE ###\n",
    "print()\n",
    "print (\"Loss = \" + str(preds[0]))\n",
    "print (\"Test Accuracy = \" + str(preds[1]))"
   ]
  },
  {
   "cell_type": "markdown",
   "metadata": {},
   "source": [
    "#### Expected performance   \n",
    "If your `happyModel()` function worked, its accuracy should be better than random guessing (50% accuracy).\n",
    "\n",
    "To give you a point of comparison, our model gets around **95% test accuracy in 40 epochs** (and 99% train accuracy) with a mini batch size of 16 and \"adam\" optimizer."
   ]
  },
  {
   "cell_type": "markdown",
   "metadata": {},
   "source": [
    "#### Tips for improving your model\n",
    "\n",
    "If you have not yet achieved a very good accuracy (>= 80%), here are some things tips:\n",
    "\n",
    "- Use blocks of CONV->BATCHNORM->RELU such as:\n",
    "```python\n",
    "X = Conv2D(32, (3, 3), strides = (1, 1), name = 'conv0')(X)\n",
    "X = BatchNormalization(axis = 3, name = 'bn0')(X)\n",
    "X = Activation('relu')(X)\n",
    "```\n",
    "until your height and width dimensions are quite low and your number of channels quite large (≈32 for example).  \n",
    "You can then flatten the volume and use a fully-connected layer.\n",
    "- Use MAXPOOL after such blocks.  It will help you lower the dimension in height and width.\n",
    "- Change your optimizer. We find 'adam' works well. \n",
    "- If you get memory issues, lower your batch_size (e.g. 12 )\n",
    "- Run more epochs until you see the train accuracy no longer improves. \n",
    "\n",
    "**Note**: If you perform hyperparameter tuning on your model, the test set actually becomes a dev set, and your model might end up overfitting to the test (dev) set. Normally, you'll want separate dev and test sets.  The dev set is used for parameter tuning, and the test set is used once to estimate the model's performance in production."
   ]
  },
  {
   "cell_type": "markdown",
   "metadata": {},
   "source": [
    "## 3 - Conclusion\n",
    "\n",
    "Congratulations, you have created a proof of concept for \"happiness detection\"!"
   ]
  },
  {
   "cell_type": "markdown",
   "metadata": {},
   "source": [
    "## Key Points to remember\n",
    "- Keras is a tool we recommend for rapid prototyping. It allows you to quickly try out different model architectures.\n",
    "- Remember The four steps in Keras: \n",
    "\n",
    "\n",
    "1. Create  \n",
    "2. Compile  \n",
    "3. Fit/Train  \n",
    "4. Evaluate/Test  "
   ]
  },
  {
   "cell_type": "markdown",
   "metadata": {},
   "source": [
    "## 4 - Test with your own image (Optional)\n",
    "\n",
    "Congratulations on finishing this assignment. You can now take a picture of your face and see if it can classify whether your expression is \"happy\" or \"not happy\". To do that:\n",
    "\n",
    "\n",
    "1. Click on \"File\" in the upper bar of this notebook, then click \"Open\" to go on your Coursera Hub.\n",
    "2. Add your image to this Jupyter Notebook's directory, in the \"images\" folder\n",
    "3. Write your image's name in the following code\n",
    "4. Run the code and check if the algorithm is right (0 is not happy, 1 is happy)!\n",
    "    \n",
    "The training/test sets were quite similar; for example, all the pictures were taken against the same background (since a front door camera is always mounted in the same position). This makes the problem easier, but a model trained on this data may or may not work on your own data. But feel free to give it a try! "
   ]
  },
  {
   "cell_type": "code",
   "execution_count": 12,
   "metadata": {},
   "outputs": [
    {
     "name": "stdout",
     "output_type": "stream",
     "text": [
      "[[ 1.]]\n"
     ]
    },
    {
     "data": {
      "image/png": "[encoded data removed]",
      "text/plain": [
       "<matplotlib.figure.Figure at 0x7fe96c36f860>"
      ]
     },
     "metadata": {},
     "output_type": "display_data"
    }
   ],
   "source": [
    "### START CODE HERE ###\n",
    "img_path = 'images/smile.jpg'\n",
    "### END CODE HERE ###\n",
    "img = image.load_img(img_path, target_size=(64, 64))\n",
    "imshow(img)\n",
    "\n",
    "x = image.img_to_array(img)\n",
    "x = np.expand_dims(x, axis=0)\n",
    "x = preprocess_input(x)\n",
    "\n",
    "print(happyModel.predict(x))"
   ]
  },
  {
   "cell_type": "markdown",
   "metadata": {},
   "source": [
    "## 5 - Other useful functions in Keras (Optional)\n",
    "\n",
    "Two other basic features of Keras that you'll find useful are:\n",
    "- `model.summary()`: prints the details of your layers in a table with the sizes of its inputs/outputs\n",
    "- `plot_model()`: plots your graph in a nice layout. You can even save it as \".png\" using SVG() if you'd like to share it on social media ;). It is saved in \"File\" then \"Open...\" in the upper bar of the notebook.\n",
    "\n",
    "Run the following code."
   ]
  },
  {
   "cell_type": "code",
   "execution_count": 13,
   "metadata": {
    "scrolled": false
   },
   "outputs": [
    {
     "name": "stdout",
     "output_type": "stream",
     "text": [
      "_________________________________________________________________\n",
      "Layer (type)                 Output Shape              Param #   \n",
      "=================================================================\n",
      "input_1 (InputLayer)         (None, 64, 64, 3)         0         \n",
      "_________________________________________________________________\n",
      "zero_padding2d_1 (ZeroPaddin (None, 70, 70, 3)         0         \n",
      "_________________________________________________________________\n",
      "conv0 (Conv2D)               (None, 64, 64, 32)        4736      \n",
      "_________________________________________________________________\n",
      "bn0 (BatchNormalization)     (None, 64, 64, 32)        128       \n",
      "_________________________________________________________________\n",
      "activation_1 (Activation)    (None, 64, 64, 32)        0         \n",
      "_________________________________________________________________\n",
      "max_pool (MaxPooling2D)      (None, 32, 32, 32)        0         \n",
      "_________________________________________________________________\n",
      "flatten_1 (Flatten)          (None, 32768)             0         \n",
      "_________________________________________________________________\n",
      "fc (Dense)                   (None, 1)                 32769     \n",
      "=================================================================\n",
      "Total params: 37,633\n",
      "Trainable params: 37,569\n",
      "Non-trainable params: 64\n",
      "_________________________________________________________________\n"
     ]
    }
   ],
   "source": [
    "happyModel.summary()"
   ]
  },
  {
   "cell_type": "code",
   "execution_count": 14,
   "metadata": {},
   "outputs": [
    {
     "data": {
      "image/svg+xml": [
       "<svg height=\"556pt\" viewBox=\"0.00 0.00 219.00 556.00\" width=\"219pt\" xmlns=\"http://www.w3.org/2000/svg\" xmlns:xlink=\"http://www.w3.org/1999/xlink\">\n",
       "<g class=\"graph\" id=\"graph0\" transform=\"scale(1 1) rotate(0) translate(4 552)\">\n",
       "<title>G</title>\n",
       "<polygon fill=\"white\" points=\"-4,4 -4,-552 215,-552 215,4 -4,4\" stroke=\"none\"/>\n",
       "<!-- 140640625514032 -->\n",
       "<g class=\"node\" id=\"node1\"><title>140640625514032</title>\n",
       "<polygon fill=\"none\" points=\"43,-511.5 43,-547.5 168,-547.5 168,-511.5 43,-511.5\" stroke=\"black\"/>\n",
       "<text font-family=\"Times,serif\" font-size=\"14.00\" text-anchor=\"middle\" x=\"105.5\" y=\"-525.8\">input_1: InputLayer</text>\n",
       "</g>\n",
       "<!-- 140640625407760 -->\n",
       "<g class=\"node\" id=\"node2\"><title>140640625407760</title>\n",
       "<polygon fill=\"none\" points=\"0,-438.5 0,-474.5 211,-474.5 211,-438.5 0,-438.5\" stroke=\"black\"/>\n",
       "<text font-family=\"Times,serif\" font-size=\"14.00\" text-anchor=\"middle\" x=\"105.5\" y=\"-452.8\">zero_padding2d_1: ZeroPadding2D</text>\n",
       "</g>\n",
       "<!-- 140640625514032&#45;&gt;140640625407760 -->\n",
       "<g class=\"edge\" id=\"edge1\"><title>140640625514032-&gt;140640625407760</title>\n",
       "<path d=\"M105.5,-511.313C105.5,-503.289 105.5,-493.547 105.5,-484.569\" fill=\"none\" stroke=\"black\"/>\n",
       "<polygon fill=\"black\" points=\"109,-484.529 105.5,-474.529 102,-484.529 109,-484.529\" stroke=\"black\"/>\n",
       "</g>\n",
       "<!-- 140640625407872 -->\n",
       "<g class=\"node\" id=\"node3\"><title>140640625407872</title>\n",
       "<polygon fill=\"none\" points=\"54,-365.5 54,-401.5 157,-401.5 157,-365.5 54,-365.5\" stroke=\"black\"/>\n",
       "<text font-family=\"Times,serif\" font-size=\"14.00\" text-anchor=\"middle\" x=\"105.5\" y=\"-379.8\">conv0: Conv2D</text>\n",
       "</g>\n",
       "<!-- 140640625407760&#45;&gt;140640625407872 -->\n",
       "<g class=\"edge\" id=\"edge2\"><title>140640625407760-&gt;140640625407872</title>\n",
       "<path d=\"M105.5,-438.313C105.5,-430.289 105.5,-420.547 105.5,-411.569\" fill=\"none\" stroke=\"black\"/>\n",
       "<polygon fill=\"black\" points=\"109,-411.529 105.5,-401.529 102,-411.529 109,-411.529\" stroke=\"black\"/>\n",
       "</g>\n",
       "<!-- 140640625406752 -->\n",
       "<g class=\"node\" id=\"node4\"><title>140640625406752</title>\n",
       "<polygon fill=\"none\" points=\"28,-292.5 28,-328.5 183,-328.5 183,-292.5 28,-292.5\" stroke=\"black\"/>\n",
       "<text font-family=\"Times,serif\" font-size=\"14.00\" text-anchor=\"middle\" x=\"105.5\" y=\"-306.8\">bn0: BatchNormalization</text>\n",
       "</g>\n",
       "<!-- 140640625407872&#45;&gt;140640625406752 -->\n",
       "<g class=\"edge\" id=\"edge3\"><title>140640625407872-&gt;140640625406752</title>\n",
       "<path d=\"M105.5,-365.313C105.5,-357.289 105.5,-347.547 105.5,-338.569\" fill=\"none\" stroke=\"black\"/>\n",
       "<polygon fill=\"black\" points=\"109,-338.529 105.5,-328.529 102,-338.529 109,-338.529\" stroke=\"black\"/>\n",
       "</g>\n",
       "<!-- 140640625408320 -->\n",
       "<g class=\"node\" id=\"node5\"><title>140640625408320</title>\n",
       "<polygon fill=\"none\" points=\"31.5,-219.5 31.5,-255.5 179.5,-255.5 179.5,-219.5 31.5,-219.5\" stroke=\"black\"/>\n",
       "<text font-family=\"Times,serif\" font-size=\"14.00\" text-anchor=\"middle\" x=\"105.5\" y=\"-233.8\">activation_1: Activation</text>\n",
       "</g>\n",
       "<!-- 140640625406752&#45;&gt;140640625408320 -->\n",
       "<g class=\"edge\" id=\"edge4\"><title>140640625406752-&gt;140640625408320</title>\n",
       "<path d=\"M105.5,-292.313C105.5,-284.289 105.5,-274.547 105.5,-265.569\" fill=\"none\" stroke=\"black\"/>\n",
       "<polygon fill=\"black\" points=\"109,-265.529 105.5,-255.529 102,-265.529 109,-265.529\" stroke=\"black\"/>\n",
       "</g>\n",
       "<!-- 140640625472456 -->\n",
       "<g class=\"node\" id=\"node6\"><title>140640625472456</title>\n",
       "<polygon fill=\"none\" points=\"24,-146.5 24,-182.5 187,-182.5 187,-146.5 24,-146.5\" stroke=\"black\"/>\n",
       "<text font-family=\"Times,serif\" font-size=\"14.00\" text-anchor=\"middle\" x=\"105.5\" y=\"-160.8\">max_pool: MaxPooling2D</text>\n",
       "</g>\n",
       "<!-- 140640625408320&#45;&gt;140640625472456 -->\n",
       "<g class=\"edge\" id=\"edge5\"><title>140640625408320-&gt;140640625472456</title>\n",
       "<path d=\"M105.5,-219.313C105.5,-211.289 105.5,-201.547 105.5,-192.569\" fill=\"none\" stroke=\"black\"/>\n",
       "<polygon fill=\"black\" points=\"109,-192.529 105.5,-182.529 102,-192.529 109,-192.529\" stroke=\"black\"/>\n",
       "</g>\n",
       "<!-- 140640625222824 -->\n",
       "<g class=\"node\" id=\"node7\"><title>140640625222824</title>\n",
       "<polygon fill=\"none\" points=\"50.5,-73.5 50.5,-109.5 160.5,-109.5 160.5,-73.5 50.5,-73.5\" stroke=\"black\"/>\n",
       "<text font-family=\"Times,serif\" font-size=\"14.00\" text-anchor=\"middle\" x=\"105.5\" y=\"-87.8\">flatten_1: Flatten</text>\n",
       "</g>\n",
       "<!-- 140640625472456&#45;&gt;140640625222824 -->\n",
       "<g class=\"edge\" id=\"edge6\"><title>140640625472456-&gt;140640625222824</title>\n",
       "<path d=\"M105.5,-146.313C105.5,-138.289 105.5,-128.547 105.5,-119.569\" fill=\"none\" stroke=\"black\"/>\n",
       "<polygon fill=\"black\" points=\"109,-119.529 105.5,-109.529 102,-119.529 109,-119.529\" stroke=\"black\"/>\n",
       "</g>\n",
       "<!-- 140640625225344 -->\n",
       "<g class=\"node\" id=\"node8\"><title>140640625225344</title>\n",
       "<polygon fill=\"none\" points=\"71.5,-0.5 71.5,-36.5 139.5,-36.5 139.5,-0.5 71.5,-0.5\" stroke=\"black\"/>\n",
       "<text font-family=\"Times,serif\" font-size=\"14.00\" text-anchor=\"middle\" x=\"105.5\" y=\"-14.8\">fc: Dense</text>\n",
       "</g>\n",
       "<!-- 140640625222824&#45;&gt;140640625225344 -->\n",
       "<g class=\"edge\" id=\"edge7\"><title>140640625222824-&gt;140640625225344</title>\n",
       "<path d=\"M105.5,-73.3129C105.5,-65.2895 105.5,-55.5475 105.5,-46.5691\" fill=\"none\" stroke=\"black\"/>\n",
       "<polygon fill=\"black\" points=\"109,-46.5288 105.5,-36.5288 102,-46.5289 109,-46.5288\" stroke=\"black\"/>\n",
       "</g>\n",
       "</g>\n",
       "</svg>"
      ],
      "text/plain": [
       "<IPython.core.display.SVG object>"
      ]
     },
     "execution_count": 14,
     "metadata": {},
     "output_type": "execute_result"
    }
   ],
   "source": [
    "plot_model(happyModel, to_file='HappyModel.png')\n",
    "SVG(model_to_dot(happyModel).create(prog='dot', format='svg'))"
   ]
  },
  {
   "cell_type": "code",
   "execution_count": null,
   "metadata": {
    "collapsed": true
   },
   "outputs": [],
   "source": []
  }
 ],
 "metadata": {
  "kernelspec": {
   "display_name": "Python 3",
   "language": "python",
   "name": "python3"
  },
  "language_info": {
   "codemirror_mode": {
    "name": "ipython",
    "version": 3
   },
   "file_extension": ".py",
   "mimetype": "text/x-python",
   "name": "python",
   "nbconvert_exporter": "python",
   "pygments_lexer": "ipython3",
   "version": "3.6.0"
  }
 },
 "nbformat": 4,
 "nbformat_minor": 2
}
